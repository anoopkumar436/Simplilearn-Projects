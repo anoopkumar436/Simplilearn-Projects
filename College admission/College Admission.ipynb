{
 "cells": [
  {
   "cell_type": "markdown",
   "metadata": {},
   "source": [
    "# College Admission"
   ]
  },
  {
   "cell_type": "markdown",
   "metadata": {},
   "source": [
    "## DESCRIPTION\n",
    "\n",
    "**Background and Objective:** \n",
    "Every year thousands of applications are being submitted by international students for admission in colleges of the USA. It becomes an iterative task for the Education Department to know the total number of applications received and then compare that data with the total number of applications successfully accepted and visas processed. Hence to make the entire process easy, the education department in the US analyze the factors that influence the admission of a student into colleges. The objective of this exercise is to analyse the same.\n",
    "\n",
    "## Domain: Education"
   ]
  },
  {
   "cell_type": "markdown",
   "metadata": {},
   "source": [
    "## Dataset Description:\n",
    "\n",
    "1. GRE :  Graduate Record Exam Scores\n",
    "2. GPA :  Grade Point Average\n",
    "3. Rank: It refers to the prestige of the undergraduate institution.\n",
    "         The variable rank takes on the values 1 through 4. Institutions with a rank of 1 have the highest prestige, while          those with a rank of 4 have the lowest.\n",
    "4. Admit:  It is a response variable; admit/don’t admit is a binary variable where 1 indicates that student is admitted and            0 indicates that student is not admitted.   \n",
    "5. SES:  SES refers to socioeconomic status: 1 - low, 2 - medium, 3 - high.\n",
    "6. Gender_male : Gender_male (0, 1) = 0 -> Female, 1 -> Male\n",
    "7. Race: Race – 1, 2, and 3 represent Hispanic, Asian, and African-American "
   ]
  },
  {
   "cell_type": "markdown",
   "metadata": {},
   "source": [
    "**Analysis Tasks:** Analyze the historical data and determine the key drivers for admission."
   ]
  },
  {
   "cell_type": "markdown",
   "metadata": {},
   "source": [
    "**Predictive:**\n",
    "\n",
    "     Find the missing values. (if any, perform missing value treatment)\n",
    "     Find outliers (if any, then perform outlier treatment)\n",
    "     Find the structure of the data set and if required, transform the numeric data type to factor and vice-versa.\n",
    "     Find whether the data is normally distributed or not. Use the plot to determine the same. \n",
    "     Normalize the data if not normally distributed.\n",
    "     Use variable reduction techniques to identify significant variables.\n",
    "     Run logistic model to determine the factors that influence the admission process of a student (Drop insignificant                variables) \n",
    "     Calculate the accuracy of the model and run validation techniques.\n",
    "     Try other modelling techniques like decision tree and SVM and select a champion model \n",
    "     Determine the accuracy rates for each kind of model \n",
    "     Select the most accurate model \n",
    "     Identify other Machine learning or statistical techniques"
   ]
  },
  {
   "cell_type": "markdown",
   "metadata": {},
   "source": [
    "**Descriptive:** \n",
    "Categorize the average of grade point into High, Medium, and Low (with admission probability percentages) and plot it on a point chart.  \n",
    "Cross grid for admission variables with GRE Categorization is shown below:"
   ]
  },
  {
   "cell_type": "code",
   "execution_count": null,
   "metadata": {},
   "outputs": [],
   "source": [
    "#GRE       Categorized\n",
    "#0-440 ---> Low\n",
    "#440-580 -> Medium\n",
    "#580+ ----> High"
   ]
  },
  {
   "cell_type": "code",
   "execution_count": 76,
   "metadata": {},
   "outputs": [],
   "source": [
    "\n",
    "import matplotlib.pyplot as plt\n",
    "import seaborn as sns\n",
    "import pandas as pd\n",
    "import numpy as np\n",
    "import warnings\n",
    "warnings.filterwarnings('ignore')\n",
    "\n",
    "from sklearn.metrics import confusion_matrix ,classification_report,precision_score, recall_score ,f1_score, roc_curve, roc_auc_score \n",
    "from sklearn.model_selection import train_test_split\n",
    "from sklearn.linear_model import LogisticRegression \n",
    "from sklearn.ensemble import RandomForestClassifier\n",
    "from sklearn.neighbors import KNeighborsClassifier\n",
    "from sklearn.tree import DecisionTreeClassifier\n",
    "from sklearn.naive_bayes import GaussianNB\n",
    "from sklearn.svm import SVC"
   ]
  },
  {
   "cell_type": "code",
   "execution_count": 77,
   "metadata": {},
   "outputs": [],
   "source": [
    "data = pd.read_csv('College_admission.csv')"
   ]
  },
  {
   "cell_type": "code",
   "execution_count": 78,
   "metadata": {},
   "outputs": [
    {
     "data": {
      "text/html": [
       "<div>\n",
       "<style scoped>\n",
       "    .dataframe tbody tr th:only-of-type {\n",
       "        vertical-align: middle;\n",
       "    }\n",
       "\n",
       "    .dataframe tbody tr th {\n",
       "        vertical-align: top;\n",
       "    }\n",
       "\n",
       "    .dataframe thead th {\n",
       "        text-align: right;\n",
       "    }\n",
       "</style>\n",
       "<table border=\"1\" class=\"dataframe\">\n",
       "  <thead>\n",
       "    <tr style=\"text-align: right;\">\n",
       "      <th></th>\n",
       "      <th>admit</th>\n",
       "      <th>gre</th>\n",
       "      <th>gpa</th>\n",
       "      <th>ses</th>\n",
       "      <th>Gender_Male</th>\n",
       "      <th>Race</th>\n",
       "      <th>rank</th>\n",
       "    </tr>\n",
       "  </thead>\n",
       "  <tbody>\n",
       "    <tr>\n",
       "      <th>0</th>\n",
       "      <td>0</td>\n",
       "      <td>380</td>\n",
       "      <td>3.61</td>\n",
       "      <td>1</td>\n",
       "      <td>0</td>\n",
       "      <td>3</td>\n",
       "      <td>3</td>\n",
       "    </tr>\n",
       "    <tr>\n",
       "      <th>1</th>\n",
       "      <td>1</td>\n",
       "      <td>660</td>\n",
       "      <td>3.67</td>\n",
       "      <td>2</td>\n",
       "      <td>0</td>\n",
       "      <td>2</td>\n",
       "      <td>3</td>\n",
       "    </tr>\n",
       "    <tr>\n",
       "      <th>2</th>\n",
       "      <td>1</td>\n",
       "      <td>800</td>\n",
       "      <td>4.00</td>\n",
       "      <td>2</td>\n",
       "      <td>0</td>\n",
       "      <td>2</td>\n",
       "      <td>1</td>\n",
       "    </tr>\n",
       "    <tr>\n",
       "      <th>3</th>\n",
       "      <td>1</td>\n",
       "      <td>640</td>\n",
       "      <td>3.19</td>\n",
       "      <td>1</td>\n",
       "      <td>1</td>\n",
       "      <td>2</td>\n",
       "      <td>4</td>\n",
       "    </tr>\n",
       "    <tr>\n",
       "      <th>4</th>\n",
       "      <td>0</td>\n",
       "      <td>520</td>\n",
       "      <td>2.93</td>\n",
       "      <td>3</td>\n",
       "      <td>1</td>\n",
       "      <td>2</td>\n",
       "      <td>4</td>\n",
       "    </tr>\n",
       "    <tr>\n",
       "      <th>...</th>\n",
       "      <td>...</td>\n",
       "      <td>...</td>\n",
       "      <td>...</td>\n",
       "      <td>...</td>\n",
       "      <td>...</td>\n",
       "      <td>...</td>\n",
       "      <td>...</td>\n",
       "    </tr>\n",
       "    <tr>\n",
       "      <th>395</th>\n",
       "      <td>0</td>\n",
       "      <td>620</td>\n",
       "      <td>4.00</td>\n",
       "      <td>2</td>\n",
       "      <td>0</td>\n",
       "      <td>2</td>\n",
       "      <td>2</td>\n",
       "    </tr>\n",
       "    <tr>\n",
       "      <th>396</th>\n",
       "      <td>0</td>\n",
       "      <td>560</td>\n",
       "      <td>3.04</td>\n",
       "      <td>2</td>\n",
       "      <td>0</td>\n",
       "      <td>1</td>\n",
       "      <td>3</td>\n",
       "    </tr>\n",
       "    <tr>\n",
       "      <th>397</th>\n",
       "      <td>0</td>\n",
       "      <td>460</td>\n",
       "      <td>2.63</td>\n",
       "      <td>3</td>\n",
       "      <td>0</td>\n",
       "      <td>2</td>\n",
       "      <td>2</td>\n",
       "    </tr>\n",
       "    <tr>\n",
       "      <th>398</th>\n",
       "      <td>0</td>\n",
       "      <td>700</td>\n",
       "      <td>3.65</td>\n",
       "      <td>1</td>\n",
       "      <td>1</td>\n",
       "      <td>1</td>\n",
       "      <td>2</td>\n",
       "    </tr>\n",
       "    <tr>\n",
       "      <th>399</th>\n",
       "      <td>0</td>\n",
       "      <td>600</td>\n",
       "      <td>3.89</td>\n",
       "      <td>2</td>\n",
       "      <td>1</td>\n",
       "      <td>3</td>\n",
       "      <td>3</td>\n",
       "    </tr>\n",
       "  </tbody>\n",
       "</table>\n",
       "<p>400 rows × 7 columns</p>\n",
       "</div>"
      ],
      "text/plain": [
       "     admit  gre   gpa  ses  Gender_Male  Race  rank\n",
       "0        0  380  3.61    1            0     3     3\n",
       "1        1  660  3.67    2            0     2     3\n",
       "2        1  800  4.00    2            0     2     1\n",
       "3        1  640  3.19    1            1     2     4\n",
       "4        0  520  2.93    3            1     2     4\n",
       "..     ...  ...   ...  ...          ...   ...   ...\n",
       "395      0  620  4.00    2            0     2     2\n",
       "396      0  560  3.04    2            0     1     3\n",
       "397      0  460  2.63    3            0     2     2\n",
       "398      0  700  3.65    1            1     1     2\n",
       "399      0  600  3.89    2            1     3     3\n",
       "\n",
       "[400 rows x 7 columns]"
      ]
     },
     "execution_count": 78,
     "metadata": {},
     "output_type": "execute_result"
    }
   ],
   "source": [
    "data"
   ]
  },
  {
   "cell_type": "code",
   "execution_count": 79,
   "metadata": {},
   "outputs": [
    {
     "name": "stdout",
     "output_type": "stream",
     "text": [
      "<class 'pandas.core.frame.DataFrame'>\n",
      "RangeIndex: 400 entries, 0 to 399\n",
      "Data columns (total 7 columns):\n",
      " #   Column       Non-Null Count  Dtype  \n",
      "---  ------       --------------  -----  \n",
      " 0   admit        400 non-null    int64  \n",
      " 1   gre          400 non-null    int64  \n",
      " 2   gpa          400 non-null    float64\n",
      " 3   ses          400 non-null    int64  \n",
      " 4   Gender_Male  400 non-null    int64  \n",
      " 5   Race         400 non-null    int64  \n",
      " 6   rank         400 non-null    int64  \n",
      "dtypes: float64(1), int64(6)\n",
      "memory usage: 22.0 KB\n"
     ]
    }
   ],
   "source": [
    "data.info()"
   ]
  },
  {
   "cell_type": "code",
   "execution_count": 80,
   "metadata": {},
   "outputs": [
    {
     "data": {
      "text/html": [
       "<div>\n",
       "<style scoped>\n",
       "    .dataframe tbody tr th:only-of-type {\n",
       "        vertical-align: middle;\n",
       "    }\n",
       "\n",
       "    .dataframe tbody tr th {\n",
       "        vertical-align: top;\n",
       "    }\n",
       "\n",
       "    .dataframe thead th {\n",
       "        text-align: right;\n",
       "    }\n",
       "</style>\n",
       "<table border=\"1\" class=\"dataframe\">\n",
       "  <thead>\n",
       "    <tr style=\"text-align: right;\">\n",
       "      <th></th>\n",
       "      <th>admit</th>\n",
       "      <th>gre</th>\n",
       "      <th>gpa</th>\n",
       "      <th>ses</th>\n",
       "      <th>Gender_Male</th>\n",
       "      <th>Race</th>\n",
       "      <th>rank</th>\n",
       "    </tr>\n",
       "  </thead>\n",
       "  <tbody>\n",
       "    <tr>\n",
       "      <th>count</th>\n",
       "      <td>400.000000</td>\n",
       "      <td>400.000000</td>\n",
       "      <td>400.000000</td>\n",
       "      <td>400.000000</td>\n",
       "      <td>400.000</td>\n",
       "      <td>400.000000</td>\n",
       "      <td>400.00000</td>\n",
       "    </tr>\n",
       "    <tr>\n",
       "      <th>mean</th>\n",
       "      <td>0.317500</td>\n",
       "      <td>587.700000</td>\n",
       "      <td>3.389900</td>\n",
       "      <td>1.992500</td>\n",
       "      <td>0.475</td>\n",
       "      <td>1.962500</td>\n",
       "      <td>2.48500</td>\n",
       "    </tr>\n",
       "    <tr>\n",
       "      <th>std</th>\n",
       "      <td>0.466087</td>\n",
       "      <td>115.516536</td>\n",
       "      <td>0.380567</td>\n",
       "      <td>0.808751</td>\n",
       "      <td>0.500</td>\n",
       "      <td>0.823279</td>\n",
       "      <td>0.94446</td>\n",
       "    </tr>\n",
       "    <tr>\n",
       "      <th>min</th>\n",
       "      <td>0.000000</td>\n",
       "      <td>220.000000</td>\n",
       "      <td>2.260000</td>\n",
       "      <td>1.000000</td>\n",
       "      <td>0.000</td>\n",
       "      <td>1.000000</td>\n",
       "      <td>1.00000</td>\n",
       "    </tr>\n",
       "    <tr>\n",
       "      <th>25%</th>\n",
       "      <td>0.000000</td>\n",
       "      <td>520.000000</td>\n",
       "      <td>3.130000</td>\n",
       "      <td>1.000000</td>\n",
       "      <td>0.000</td>\n",
       "      <td>1.000000</td>\n",
       "      <td>2.00000</td>\n",
       "    </tr>\n",
       "    <tr>\n",
       "      <th>50%</th>\n",
       "      <td>0.000000</td>\n",
       "      <td>580.000000</td>\n",
       "      <td>3.395000</td>\n",
       "      <td>2.000000</td>\n",
       "      <td>0.000</td>\n",
       "      <td>2.000000</td>\n",
       "      <td>2.00000</td>\n",
       "    </tr>\n",
       "    <tr>\n",
       "      <th>75%</th>\n",
       "      <td>1.000000</td>\n",
       "      <td>660.000000</td>\n",
       "      <td>3.670000</td>\n",
       "      <td>3.000000</td>\n",
       "      <td>1.000</td>\n",
       "      <td>3.000000</td>\n",
       "      <td>3.00000</td>\n",
       "    </tr>\n",
       "    <tr>\n",
       "      <th>max</th>\n",
       "      <td>1.000000</td>\n",
       "      <td>800.000000</td>\n",
       "      <td>4.000000</td>\n",
       "      <td>3.000000</td>\n",
       "      <td>1.000</td>\n",
       "      <td>3.000000</td>\n",
       "      <td>4.00000</td>\n",
       "    </tr>\n",
       "  </tbody>\n",
       "</table>\n",
       "</div>"
      ],
      "text/plain": [
       "            admit         gre         gpa         ses  Gender_Male  \\\n",
       "count  400.000000  400.000000  400.000000  400.000000      400.000   \n",
       "mean     0.317500  587.700000    3.389900    1.992500        0.475   \n",
       "std      0.466087  115.516536    0.380567    0.808751        0.500   \n",
       "min      0.000000  220.000000    2.260000    1.000000        0.000   \n",
       "25%      0.000000  520.000000    3.130000    1.000000        0.000   \n",
       "50%      0.000000  580.000000    3.395000    2.000000        0.000   \n",
       "75%      1.000000  660.000000    3.670000    3.000000        1.000   \n",
       "max      1.000000  800.000000    4.000000    3.000000        1.000   \n",
       "\n",
       "             Race       rank  \n",
       "count  400.000000  400.00000  \n",
       "mean     1.962500    2.48500  \n",
       "std      0.823279    0.94446  \n",
       "min      1.000000    1.00000  \n",
       "25%      1.000000    2.00000  \n",
       "50%      2.000000    2.00000  \n",
       "75%      3.000000    3.00000  \n",
       "max      3.000000    4.00000  "
      ]
     },
     "execution_count": 80,
     "metadata": {},
     "output_type": "execute_result"
    }
   ],
   "source": [
    "data.describe()"
   ]
  },
  {
   "cell_type": "code",
   "execution_count": 81,
   "metadata": {},
   "outputs": [
    {
     "data": {
      "text/plain": [
       "admit          0\n",
       "gre            0\n",
       "gpa            0\n",
       "ses            0\n",
       "Gender_Male    0\n",
       "Race           0\n",
       "rank           0\n",
       "dtype: int64"
      ]
     },
     "execution_count": 81,
     "metadata": {},
     "output_type": "execute_result"
    }
   ],
   "source": [
    "# Find the missing values. (if any, perform missing value treatment)\n",
    "data.isna().sum()"
   ]
  },
  {
   "cell_type": "code",
   "execution_count": 82,
   "metadata": {},
   "outputs": [],
   "source": [
    "# Find outliers (if any, then perform outlier treatment)\n",
    "\n",
    "data_num = data[['admit','gre','gpa','ses','Gender_Male','Race','rank']]"
   ]
  },
  {
   "cell_type": "code",
   "execution_count": 83,
   "metadata": {},
   "outputs": [
    {
     "data": {
      "image/png": "[encoded data removed]",
      "text/plain": [
       "<Figure size 432x288 with 1 Axes>"
      ]
     },
     "metadata": {
      "needs_background": "light"
     },
     "output_type": "display_data"
    },
    {
     "data": {
      "image/png": "[encoded data removed]",
      "text/plain": [
       "<Figure size 432x288 with 1 Axes>"
      ]
     },
     "metadata": {
      "needs_background": "light"
     },
     "output_type": "display_data"
    },
    {
     "data": {
      "image/png": "[encoded data removed]",
      "text/plain": [
       "<Figure size 432x288 with 1 Axes>"
      ]
     },
     "metadata": {
      "needs_background": "light"
     },
     "output_type": "display_data"
    },
    {
     "data": {
      "image/png": "[encoded data removed]",
      "text/plain": [
       "<Figure size 432x288 with 1 Axes>"
      ]
     },
     "metadata": {
      "needs_background": "light"
     },
     "output_type": "display_data"
    },
    {
     "data": {
      "image/png": "[encoded data removed]",
      "text/plain": [
       "<Figure size 432x288 with 1 Axes>"
      ]
     },
     "metadata": {
      "needs_background": "light"
     },
     "output_type": "display_data"
    },
    {
     "data": {
      "image/png": "[encoded data removed]",
      "text/plain": [
       "<Figure size 432x288 with 1 Axes>"
      ]
     },
     "metadata": {
      "needs_background": "light"
     },
     "output_type": "display_data"
    },
    {
     "data": {
      "image/png": "[encoded data removed]",
      "text/plain": [
       "<Figure size 432x288 with 1 Axes>"
      ]
     },
     "metadata": {
      "needs_background": "light"
     },
     "output_type": "display_data"
    }
   ],
   "source": [
    "for i in data_num.columns:\n",
    "    sns.boxplot(data_num[i])\n",
    "    plt.title(i)\n",
    "    plt.show()"
   ]
  },
  {
   "cell_type": "code",
   "execution_count": 84,
   "metadata": {},
   "outputs": [],
   "source": [
    "def outlinefree(dataCol):\n",
    "    # sorting column\n",
    "    sorted(dataCol)\n",
    "    \n",
    "    # getting percentile 25 and 27 that will help us for getting IQR (interquartile range)\n",
    "    Q1,Q3 = np.percentile(dataCol,[25,75])\n",
    "    \n",
    "    # getting IQR (interquartile range)\n",
    "    IQR = Q3-Q1\n",
    "    \n",
    "    # getting Lower range error\n",
    "    LowerRange = Q1-(1.5 * IQR)\n",
    "    \n",
    "    # getting upper range error\n",
    "    UpperRange = Q3+(1.5 * IQR)\n",
    "    \n",
    "    # return Lower range and upper range.\n",
    "    return LowerRange,UpperRange"
   ]
  },
  {
   "cell_type": "code",
   "execution_count": 85,
   "metadata": {},
   "outputs": [],
   "source": [
    "Lowgre,Upgre = outlinefree(data.gre)\n",
    "Lowgpa,Upgpa = outlinefree(data.gpa)"
   ]
  },
  {
   "cell_type": "code",
   "execution_count": 86,
   "metadata": {},
   "outputs": [],
   "source": [
    "data.gre.replace(list(data[(data.gre < Lowgre)].gre),Lowgre , inplace=True)\n",
    "data.gre.replace(list(data[(data.gre > Upgre)].gre),Upgre , inplace=True)\n",
    "\n",
    "data.gpa.replace(list(data[(data.gpa < Lowgpa)].gpa),Lowgpa , inplace=True)\n",
    "data.gpa.replace(list(data[(data.gpa > Upgpa)].gpa),Upgpa , inplace=True)"
   ]
  },
  {
   "cell_type": "code",
   "execution_count": 87,
   "metadata": {},
   "outputs": [
    {
     "data": {
      "image/png": "[encoded data removed]",
      "text/plain": [
       "<Figure size 432x288 with 1 Axes>"
      ]
     },
     "metadata": {
      "needs_background": "light"
     },
     "output_type": "display_data"
    },
    {
     "data": {
      "image/png": "[encoded data removed]",
      "text/plain": [
       "<Figure size 432x288 with 1 Axes>"
      ]
     },
     "metadata": {
      "needs_background": "light"
     },
     "output_type": "display_data"
    },
    {
     "data": {
      "image/png": "[encoded data removed]",
      "text/plain": [
       "<Figure size 432x288 with 1 Axes>"
      ]
     },
     "metadata": {
      "needs_background": "light"
     },
     "output_type": "display_data"
    },
    {
     "data": {
      "image/png": "[encoded data removed]",
      "text/plain": [
       "<Figure size 432x288 with 1 Axes>"
      ]
     },
     "metadata": {
      "needs_background": "light"
     },
     "output_type": "display_data"
    },
    {
     "data": {
      "image/png": "[encoded data removed]",
      "text/plain": [
       "<Figure size 432x288 with 1 Axes>"
      ]
     },
     "metadata": {
      "needs_background": "light"
     },
     "output_type": "display_data"
    },
    {
     "data": {
      "image/png": "[encoded data removed]",
      "text/plain": [
       "<Figure size 432x288 with 1 Axes>"
      ]
     },
     "metadata": {
      "needs_background": "light"
     },
     "output_type": "display_data"
    },
    {
     "data": {
      "image/png": "[encoded data removed]",
      "text/plain": [
       "<Figure size 432x288 with 1 Axes>"
      ]
     },
     "metadata": {
      "needs_background": "light"
     },
     "output_type": "display_data"
    }
   ],
   "source": [
    "\n",
    "data_num = data[['admit','gre','gpa','ses','Gender_Male','Race','rank']]\n",
    "\n",
    "for i in data_num.columns:\n",
    "    sns.boxplot(data_num[i])\n",
    "    plt.title(i)\n",
    "    plt.show()"
   ]
  },
  {
   "cell_type": "code",
   "execution_count": 88,
   "metadata": {},
   "outputs": [],
   "source": [
    "# Find the structure of the data set and if required, transform the numeric data type to factor and vice-versa."
   ]
  },
  {
   "cell_type": "code",
   "execution_count": 89,
   "metadata": {},
   "outputs": [
    {
     "data": {
      "text/plain": [
       "Hispanic            143\n",
       "Asian               129\n",
       "African-American    128\n",
       "Name: Race, dtype: int64"
      ]
     },
     "execution_count": 89,
     "metadata": {},
     "output_type": "execute_result"
    }
   ],
   "source": [
    "\n",
    "data['rank'].replace([1,2,3,4],['highest','medium','low','lowest'], inplace = True)\n",
    "data['rank'].value_counts()\n",
    "\n",
    "\n",
    "data['ses'].replace([1,2,3],['low','medium','high'], inplace = True)\n",
    "data['ses'].value_counts()\n",
    "\n",
    "\n",
    "data['Race'].replace([1,2,3],['Hispanic','Asian','African-American'], inplace = True)\n",
    "data['Race'].value_counts()"
   ]
  },
  {
   "cell_type": "code",
   "execution_count": 90,
   "metadata": {},
   "outputs": [
    {
     "data": {
      "image/png": "[encoded data removed]",
      "text/plain": [
       "<Figure size 432x288 with 1 Axes>"
      ]
     },
     "metadata": {
      "needs_background": "light"
     },
     "output_type": "display_data"
    },
    {
     "data": {
      "image/png": "[encoded data removed]",
      "text/plain": [
       "<Figure size 432x288 with 1 Axes>"
      ]
     },
     "metadata": {
      "needs_background": "light"
     },
     "output_type": "display_data"
    },
    {
     "data": {
      "image/png": "[encoded data removed]",
      "text/plain": [
       "<Figure size 432x288 with 1 Axes>"
      ]
     },
     "metadata": {
      "needs_background": "light"
     },
     "output_type": "display_data"
    }
   ],
   "source": [
    "# Find whether the data is normally distributed or not. Use the plot to determine the same. \n",
    "\n",
    "data_num = data[['admit','gre','gpa']]\n",
    "\n",
    "for i in data_num.columns:\n",
    "    sns.boxplot(data_num[i])\n",
    "    plt.title(i)\n",
    "    plt.show()"
   ]
  },
  {
   "cell_type": "code",
   "execution_count": 91,
   "metadata": {},
   "outputs": [],
   "source": [
    "# Use variable reduction techniques to identify significant variables."
   ]
  },
  {
   "cell_type": "code",
   "execution_count": 92,
   "metadata": {},
   "outputs": [
    {
     "name": "stdout",
     "output_type": "stream",
     "text": [
      "Alternate Hypothesis passed. rank and Admit have Relationship\n"
     ]
    }
   ],
   "source": [
    "\n",
    "ct = pd.crosstab(data['rank'],data['admit'])\n",
    "\n",
    "from scipy.stats import chi2_contingency\n",
    "stat,pvalue,dof,expected_R = chi2_contingency(ct)\n",
    "\n",
    "if pvalue <= 0.05:\n",
    "    print(\"Alternate Hypothesis passed. rank and Admit have Relationship\")\n",
    "else:\n",
    "    print(\"Null hypothesis passed. rank and Admit doesnot have  Relationship\")"
   ]
  },
  {
   "cell_type": "code",
   "execution_count": 93,
   "metadata": {},
   "outputs": [
    {
     "data": {
      "text/plain": [
       "<seaborn.axisgrid.PairGrid at 0x22c54e038c8>"
      ]
     },
     "execution_count": 93,
     "metadata": {},
     "output_type": "execute_result"
    },
    {
     "data": {
      "image/png": "[encoded data removed]",
      "text/plain": [
       "<Figure size 582.375x540 with 12 Axes>"
      ]
     },
     "metadata": {
      "needs_background": "light"
     },
     "output_type": "display_data"
    }
   ],
   "source": [
    "sns.pairplot(data, hue=\"admit\")"
   ]
  },
  {
   "cell_type": "code",
   "execution_count": 94,
   "metadata": {},
   "outputs": [],
   "source": [
    "# Run logistic model to determine the factors that influence the admission process of a student \n",
    "#   (Drop insignificant variables) \n",
    "\n",
    "data.drop(['ses', 'Gender_Male','Race','rank'], axis = 1,inplace = True)\n"
   ]
  },
  {
   "cell_type": "code",
   "execution_count": 95,
   "metadata": {},
   "outputs": [
    {
     "data": {
      "text/html": [
       "<div>\n",
       "<style scoped>\n",
       "    .dataframe tbody tr th:only-of-type {\n",
       "        vertical-align: middle;\n",
       "    }\n",
       "\n",
       "    .dataframe tbody tr th {\n",
       "        vertical-align: top;\n",
       "    }\n",
       "\n",
       "    .dataframe thead th {\n",
       "        text-align: right;\n",
       "    }\n",
       "</style>\n",
       "<table border=\"1\" class=\"dataframe\">\n",
       "  <thead>\n",
       "    <tr style=\"text-align: right;\">\n",
       "      <th></th>\n",
       "      <th>admit</th>\n",
       "      <th>gre</th>\n",
       "      <th>gpa</th>\n",
       "    </tr>\n",
       "  </thead>\n",
       "  <tbody>\n",
       "    <tr>\n",
       "      <th>0</th>\n",
       "      <td>0</td>\n",
       "      <td>380</td>\n",
       "      <td>3.61</td>\n",
       "    </tr>\n",
       "    <tr>\n",
       "      <th>1</th>\n",
       "      <td>1</td>\n",
       "      <td>660</td>\n",
       "      <td>3.67</td>\n",
       "    </tr>\n",
       "    <tr>\n",
       "      <th>2</th>\n",
       "      <td>1</td>\n",
       "      <td>800</td>\n",
       "      <td>4.00</td>\n",
       "    </tr>\n",
       "    <tr>\n",
       "      <th>3</th>\n",
       "      <td>1</td>\n",
       "      <td>640</td>\n",
       "      <td>3.19</td>\n",
       "    </tr>\n",
       "    <tr>\n",
       "      <th>4</th>\n",
       "      <td>0</td>\n",
       "      <td>520</td>\n",
       "      <td>2.93</td>\n",
       "    </tr>\n",
       "  </tbody>\n",
       "</table>\n",
       "</div>"
      ],
      "text/plain": [
       "   admit  gre   gpa\n",
       "0      0  380  3.61\n",
       "1      1  660  3.67\n",
       "2      1  800  4.00\n",
       "3      1  640  3.19\n",
       "4      0  520  2.93"
      ]
     },
     "execution_count": 95,
     "metadata": {},
     "output_type": "execute_result"
    }
   ],
   "source": [
    "data.head()"
   ]
  },
  {
   "cell_type": "code",
   "execution_count": 96,
   "metadata": {},
   "outputs": [],
   "source": [
    "#Calculate the accuracy of the model and run validation techniques.\n",
    "features = data.iloc[:,1:].values\n",
    "label = data.iloc[:,0].values"
   ]
  },
  {
   "cell_type": "code",
   "execution_count": 99,
   "metadata": {},
   "outputs": [
    {
     "name": "stdout",
     "output_type": "stream",
     "text": [
      "test score: 0.7 train score: 0.66  \n",
      "\n",
      "[[63 10]\n",
      " [20  7]]\n"
     ]
    }
   ],
   "source": [
    "#------------------------LogisticRegression-----------------------\n",
    "X_train, X_test, y_train, y_test= train_test_split(features,label, test_size= 0.25, random_state=61)\n",
    "\n",
    "classimodel= LogisticRegression()  \n",
    "classimodel.fit(X_train, y_train)\n",
    "trainscore =  classimodel.score(X_train,y_train)\n",
    "testscore =  classimodel.score(X_test,y_test)  \n",
    "    \n",
    "y_pred =  classimodel.predict(X_test)\n",
    "print(\"test score: {} train score: {} \".format(testscore,trainscore),'\\n')        \n",
    "print(confusion_matrix(y_test, y_pred))\n",
    "            "
   ]
  },
  {
   "cell_type": "code",
   "execution_count": 100,
   "metadata": {},
   "outputs": [
    {
     "name": "stdout",
     "output_type": "stream",
     "text": [
      " f1 score:  0.3181818181818182 \n",
      "\n",
      " precision score:  0.4117647058823529 \n",
      "\n",
      " recall score:  0.25925925925925924 \n",
      "\n",
      "              precision    recall  f1-score   support\n",
      "\n",
      "           0       0.76      0.86      0.81        73\n",
      "           1       0.41      0.26      0.32        27\n",
      "\n",
      "    accuracy                           0.70       100\n",
      "   macro avg       0.59      0.56      0.56       100\n",
      "weighted avg       0.67      0.70      0.68       100\n",
      "\n"
     ]
    }
   ],
   "source": [
    "print(' f1 score: ',f1_score(y_test, y_pred),'\\n')\n",
    "print(' precision score: ',precision_score(y_test, y_pred),'\\n')\n",
    "print(' recall score: ',recall_score(y_test, y_pred),'\\n')\n",
    "print(classification_report(y_test, y_pred))"
   ]
  },
  {
   "cell_type": "code",
   "execution_count": 134,
   "metadata": {},
   "outputs": [],
   "source": [
    "# Try other modelling techniques like decision tree and SVM and select a champion model \n",
    "# Determine the accuracy rates for each kind of model\n",
    "# Identify other Machine learning or statistical techniques\n",
    " "
   ]
  },
  {
   "cell_type": "code",
   "execution_count": 103,
   "metadata": {},
   "outputs": [
    {
     "name": "stdout",
     "output_type": "stream",
     "text": [
      "test score: 0.65 train score: 0.64 \n",
      "\n",
      "[[54 19]\n",
      " [16 11]]\n"
     ]
    }
   ],
   "source": [
    "#------------------------------naive bayes---------------------------\n",
    "X_train, X_test, y_train, y_test= train_test_split(features,label, test_size= 0.25, random_state=61) \n",
    "\n",
    "NBmodel = GaussianNB()  \n",
    "NBmodel.fit(X_train, y_train) \n",
    "\n",
    "trainscore =  NBmodel.score(X_train,y_train)\n",
    "testscore =  NBmodel.score(X_test,y_test)  \n",
    "\n",
    "print(\"test score: {} train score: {}\".format(testscore,trainscore),'\\n')\n",
    "y_predNB =  NBmodel.predict(X_test)\n",
    "print(confusion_matrix(y_test, y_predNB))"
   ]
  },
  {
   "cell_type": "code",
   "execution_count": 104,
   "metadata": {},
   "outputs": [
    {
     "name": "stdout",
     "output_type": "stream",
     "text": [
      "f1_score:  0.38596491228070173 \n",
      "\n",
      "precision_score:  0.36666666666666664 \n",
      "\n",
      "recall_score:  0.4074074074074074 \n",
      "\n",
      "              precision    recall  f1-score   support\n",
      "\n",
      "           0       0.77      0.74      0.76        73\n",
      "           1       0.37      0.41      0.39        27\n",
      "\n",
      "    accuracy                           0.65       100\n",
      "   macro avg       0.57      0.57      0.57       100\n",
      "weighted avg       0.66      0.65      0.66       100\n",
      "\n"
     ]
    }
   ],
   "source": [
    "print(\"f1_score: \",f1_score(y_test, y_predNB),'\\n')\n",
    "print(\"precision_score: \",precision_score(y_test, y_predNB),'\\n')\n",
    "print(\"recall_score: \",recall_score(y_test, y_predNB),'\\n')\n",
    "print(classification_report(y_test, y_predNB))"
   ]
  },
  {
   "cell_type": "code",
   "execution_count": 112,
   "metadata": {},
   "outputs": [
    {
     "name": "stdout",
     "output_type": "stream",
     "text": [
      "test score: 0.72 train score: 0.67 \n",
      "\n",
      "[[72  0]\n",
      " [28  0]]\n"
     ]
    }
   ],
   "source": [
    "#-------------------------------- support vector classification -------------------------------------  \n",
    "X_train, X_test, y_train, y_test= train_test_split(features,label, test_size= 0.25, random_state=18) \n",
    "\n",
    "svcmodel = SVC(probability=True)  \n",
    "svcmodel.fit(X_train, y_train) \n",
    "\n",
    "trainscore =  svcmodel.score(X_train,y_train)\n",
    "testscore =  svcmodel.score(X_test,y_test)  \n",
    "\n",
    "print(\"test score: {} train score: {}\".format(testscore,trainscore),'\\n')\n",
    "\n",
    "y_predsvc =  svcmodel.predict(X_test)\n",
    "\n",
    "print(confusion_matrix(y_test, y_predsvc))"
   ]
  },
  {
   "cell_type": "code",
   "execution_count": 113,
   "metadata": {},
   "outputs": [
    {
     "name": "stdout",
     "output_type": "stream",
     "text": [
      "f1_score:  0.0 \n",
      "\n",
      "precision_score:  0.0 \n",
      "\n",
      "recall_score:  0.0 \n",
      "\n",
      "              precision    recall  f1-score   support\n",
      "\n",
      "           0       0.72      1.00      0.84        72\n",
      "           1       0.00      0.00      0.00        28\n",
      "\n",
      "    accuracy                           0.72       100\n",
      "   macro avg       0.36      0.50      0.42       100\n",
      "weighted avg       0.52      0.72      0.60       100\n",
      " \n",
      "\n"
     ]
    }
   ],
   "source": [
    "print(\"f1_score: \",f1_score(y_test, y_predsvc),'\\n')\n",
    "print(\"precision_score: \",precision_score(y_test, y_predsvc),'\\n')\n",
    "print(\"recall_score: \",recall_score(y_test, y_predsvc),'\\n')\n",
    "print(classification_report(y_test, y_predsvc),'\\n')"
   ]
  },
  {
   "cell_type": "code",
   "execution_count": 118,
   "metadata": {},
   "outputs": [
    {
     "name": "stdout",
     "output_type": "stream",
     "text": [
      "testing score: 0.71 , train score: 0.7 \n",
      "[[64  6]\n",
      " [23  7]]\n"
     ]
    }
   ],
   "source": [
    "#------------------------------------------ DecisionTree---------------------\n",
    "\n",
    "X_train,X_test,y_train,y_test = train_test_split(features,label,test_size=0.25,random_state=38)\n",
    "    \n",
    "modelDtree = DecisionTreeClassifier(max_depth=3)\n",
    "modelDtree.fit(X_train,y_train)\n",
    "    \n",
    "training = modelDtree.score(X_train,y_train)\n",
    "testing = modelDtree.score(X_test,y_test)    \n",
    "   \n",
    "print(\"testing score: {} , train score: {} \".format(testing,training))\n",
    "\n",
    "y_predtree =  modelDtree.predict(X_test)\n",
    "\n",
    "print(confusion_matrix(y_test, y_predtree))"
   ]
  },
  {
   "cell_type": "code",
   "execution_count": 119,
   "metadata": {},
   "outputs": [
    {
     "name": "stdout",
     "output_type": "stream",
     "text": [
      "f1_score:  0.32558139534883723 \n",
      "\n",
      "precision_score:  0.5384615384615384 \n",
      "\n",
      "recall_score:  0.23333333333333334 \n",
      "\n",
      "              precision    recall  f1-score   support\n",
      "\n",
      "           0       0.74      0.91      0.82        70\n",
      "           1       0.54      0.23      0.33        30\n",
      "\n",
      "    accuracy                           0.71       100\n",
      "   macro avg       0.64      0.57      0.57       100\n",
      "weighted avg       0.68      0.71      0.67       100\n",
      " \n",
      "\n"
     ]
    }
   ],
   "source": [
    "print(\"f1_score: \",f1_score(y_test, y_predtree),'\\n')\n",
    "print(\"precision_score: \",precision_score(y_test, y_predtree),'\\n')\n",
    "print(\"recall_score: \",recall_score(y_test, y_predtree),'\\n')\n",
    "print(classification_report(y_test, y_predtree),'\\n')"
   ]
  },
  {
   "cell_type": "code",
   "execution_count": 126,
   "metadata": {},
   "outputs": [
    {
     "name": "stdout",
     "output_type": "stream",
     "text": [
      "testing score: 0.71 , train score: 0.7333333333333333 \n",
      "[[67  7]\n",
      " [22  4]]\n"
     ]
    }
   ],
   "source": [
    "#------------------------------------------------RandomForest-------------------------------------\n",
    "X_train,X_test,y_train,y_test = train_test_split(features,label,test_size=0.25,random_state=134)\n",
    "    \n",
    "modelRFC = RandomForestClassifier(criterion='entropy',max_depth=3)\n",
    "modelRFC.fit(X_train,y_train)\n",
    "    \n",
    "training = modelRFC.score(X_train,y_train)\n",
    "testing = modelRFC.score(X_test,y_test)   \n",
    "   \n",
    "print(\"testing score: {} , train score: {} \".format(testing,training))\n",
    "\n",
    "y_predRFC =  modelRFC.predict(X_test)\n",
    "\n",
    "print(confusion_matrix(y_test, y_predRFC))"
   ]
  },
  {
   "cell_type": "code",
   "execution_count": 127,
   "metadata": {},
   "outputs": [
    {
     "name": "stdout",
     "output_type": "stream",
     "text": [
      "f1_score:  0.21621621621621623 \n",
      "\n",
      "precision_score:  0.36363636363636365 \n",
      "\n",
      "recall_score:  0.15384615384615385 \n",
      "\n",
      "              precision    recall  f1-score   support\n",
      "\n",
      "           0       0.75      0.91      0.82        74\n",
      "           1       0.36      0.15      0.22        26\n",
      "\n",
      "    accuracy                           0.71       100\n",
      "   macro avg       0.56      0.53      0.52       100\n",
      "weighted avg       0.65      0.71      0.66       100\n",
      " \n",
      "\n"
     ]
    }
   ],
   "source": [
    "print(\"f1_score: \",f1_score(y_test, y_predRFC),'\\n')\n",
    "print(\"precision_score: \",precision_score(y_test, y_predRFC),'\\n')\n",
    "print(\"recall_score: \",recall_score(y_test, y_predRFC),'\\n')\n",
    "print(classification_report(y_test, y_predRFC),'\\n')"
   ]
  },
  {
   "cell_type": "code",
   "execution_count": 128,
   "metadata": {},
   "outputs": [
    {
     "name": "stdout",
     "output_type": "stream",
     "text": [
      "0.7378356551584898\n"
     ]
    },
    {
     "data": {
      "text/plain": [
       "[<matplotlib.lines.Line2D at 0x22c5628bf08>]"
      ]
     },
     "execution_count": 128,
     "metadata": {},
     "output_type": "execute_result"
    },
    {
     "data": {
      "image/png": "[encoded data removed]",
      "text/plain": [
       "<Figure size 432x288 with 1 Axes>"
      ]
     },
     "metadata": {
      "needs_background": "light"
     },
     "output_type": "display_data"
    }
   ],
   "source": [
    "#-------------------------------------- LogisticRegression -------------------------------------\n",
    "probabilityValues = classimodel.predict_proba(features)[:,1]\n",
    "#Calculate AUC\n",
    "auc = roc_auc_score(label,probabilityValues)\n",
    "print(auc)\n",
    "#Calculate roc_curve\n",
    "fpr,tpr, threshold =  roc_curve(label,probabilityValues)\n",
    "plt.plot([0,1],[0,1], linestyle = '--')\n",
    "plt.plot(fpr,tpr)"
   ]
  },
  {
   "cell_type": "code",
   "execution_count": 129,
   "metadata": {},
   "outputs": [
    {
     "name": "stdout",
     "output_type": "stream",
     "text": [
      "0.6314931787372732\n"
     ]
    },
    {
     "data": {
      "text/plain": [
       "[<matplotlib.lines.Line2D at 0x22c562d31c8>]"
      ]
     },
     "execution_count": 129,
     "metadata": {},
     "output_type": "execute_result"
    },
    {
     "data": {
      "image/png": "[encoded data removed]",
      "text/plain": [
       "<Figure size 432x288 with 1 Axes>"
      ]
     },
     "metadata": {
      "needs_background": "light"
     },
     "output_type": "display_data"
    }
   ],
   "source": [
    "#-------------------------------------- naive bayes -------------------------------------\n",
    "probabilityValues = NBmodel.predict_proba(features)[:,1]\n",
    "#Calculate AUC\n",
    "auc = roc_auc_score(label,probabilityValues)\n",
    "print(auc)\n",
    "#Calculate roc_curve\n",
    "fpr,tpr, threshold =  roc_curve(label,probabilityValues)\n",
    "plt.plot([0,1],[0,1], linestyle = '--')\n",
    "plt.plot(fpr,tpr)"
   ]
  },
  {
   "cell_type": "code",
   "execution_count": 130,
   "metadata": {},
   "outputs": [
    {
     "name": "stdout",
     "output_type": "stream",
     "text": [
      "0.5542528337803928\n"
     ]
    },
    {
     "data": {
      "text/plain": [
       "[<matplotlib.lines.Line2D at 0x22c562e1bc8>]"
      ]
     },
     "execution_count": 130,
     "metadata": {},
     "output_type": "execute_result"
    },
    {
     "data": {
      "image/png": "[encoded data removed]",
      "text/plain": [
       "<Figure size 432x288 with 1 Axes>"
      ]
     },
     "metadata": {
      "needs_background": "light"
     },
     "output_type": "display_data"
    }
   ],
   "source": [
    "#--------------------------------------  support vector classification -------------------------------------\n",
    "probabilityValues = svcmodel.predict_proba(features)[:,1]\n",
    "#Calculate AUC\n",
    "auc = roc_auc_score(label,probabilityValues)\n",
    "print(auc)\n",
    "#Calculate roc_curve\n",
    "fpr,tpr, threshold =  roc_curve(label,probabilityValues)\n",
    "plt.plot([0,1],[0,1], linestyle = '--')\n",
    "plt.plot(fpr,tpr)"
   ]
  },
  {
   "cell_type": "code",
   "execution_count": 131,
   "metadata": {},
   "outputs": [
    {
     "name": "stdout",
     "output_type": "stream",
     "text": [
      "0.6880678376741368\n"
     ]
    },
    {
     "data": {
      "text/plain": [
       "[<matplotlib.lines.Line2D at 0x22c54edde08>]"
      ]
     },
     "execution_count": 131,
     "metadata": {},
     "output_type": "execute_result"
    },
    {
     "data": {
      "image/png": "[encoded data removed]",
      "text/plain": [
       "<Figure size 432x288 with 1 Axes>"
      ]
     },
     "metadata": {
      "needs_background": "light"
     },
     "output_type": "display_data"
    }
   ],
   "source": [
    "#-------------------------------------- DecisionTree -------------------------------------\n",
    "\n",
    "probabilityValues = modelDtree.predict_proba(features)[:,1]\n",
    "#Calculate AUC\n",
    "auc = roc_auc_score(label,probabilityValues)\n",
    "print(auc)\n",
    "#Calculate roc_curve\n",
    "fpr,tpr, threshold =  roc_curve(label,probabilityValues)\n",
    "plt.plot([0,1],[0,1], linestyle = '--')\n",
    "plt.plot(fpr,tpr)"
   ]
  },
  {
   "cell_type": "code",
   "execution_count": 132,
   "metadata": {},
   "outputs": [
    {
     "name": "stdout",
     "output_type": "stream",
     "text": [
      "0.7281301375789564\n"
     ]
    },
    {
     "data": {
      "text/plain": [
       "[<matplotlib.lines.Line2D at 0x22c565ce0c8>]"
      ]
     },
     "execution_count": 132,
     "metadata": {},
     "output_type": "execute_result"
    },
    {
     "data": {
      "image/png": "[encoded data removed]",
      "text/plain": [
       "<Figure size 432x288 with 1 Axes>"
      ]
     },
     "metadata": {
      "needs_background": "light"
     },
     "output_type": "display_data"
    }
   ],
   "source": [
    "#-------------------------------------- RandomForest -------------------------------------\n",
    "probabilityValues = modelRFC.predict_proba(features)[:,1]\n",
    "#Calculate AUC\n",
    "auc = roc_auc_score(label,probabilityValues)\n",
    "print(auc)\n",
    "#Calculate roc_curve\n",
    "fpr,tpr, threshold =  roc_curve(label,probabilityValues)\n",
    "plt.plot([0,1],[0,1], linestyle = '--')\n",
    "plt.plot(fpr,tpr)"
   ]
  },
  {
   "cell_type": "markdown",
   "metadata": {},
   "source": [
    "# Select the most accurate model\n",
    "\n",
    "**RandomForestClassifier score**\n",
    "\n",
    "1. **f1_score:  0.21621621621621623 ** \n",
    "2. **auc: 0.7281301375789564**\n"
   ]
  }
 ],
 "metadata": {
  "kernelspec": {
   "display_name": "Python 3",
   "language": "python",
   "name": "python3"
  },
  "language_info": {
   "codemirror_mode": {
    "name": "ipython",
    "version": 3
   },
   "file_extension": ".py",
   "mimetype": "text/x-python",
   "name": "python",
   "nbconvert_exporter": "python",
   "pygments_lexer": "ipython3",
   "version": "3.7.6"
  }
 },
 "nbformat": 4,
 "nbformat_minor": 4
}
